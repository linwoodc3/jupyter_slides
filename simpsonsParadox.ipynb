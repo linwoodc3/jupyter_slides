{
 "cells": [
  {
   "cell_type": "markdown",
   "metadata": {
    "slideshow": {
     "slide_type": "slide"
    }
   },
   "source": [
    "# Using Pandas to Explore Simpson's Paradox (Stanford Admissions Data)\n",
    "\n",
    "In 1973, the University of California-Berkeley was sued for sex discrimination. The numbers looked pretty incriminating: the graduate schools had just accepted 44% of male applicants but only 35% of female applicants. When researchers looked at the evidence, though, they uncovered something surprising:\n",
    "\n",
    ">*If the data are properly pooled...there is a small but statistically significant bias in favor of women.*\n",
    "<br>**(p. 403)**\n",
    "\n",
    " ***Text from [Visualizaing Urban Data Idea Lab](http://vudlab.com/simpsons/)***\n",
    "It was a textbook case of Simpson's paradox.\n",
    "\n",
    "What is Simpson's paradox?\n",
    "\n",
    "Every Simpson's paradox involves at least three variables:\n",
    "\n",
    "1.  the explained\n",
    "2.  the observed explanatory\n",
    "3.  the lurking explanatory\n",
    "\n",
    "If the effect of the observed explanatory variable on the explained variable changes directions when you account for the lurking explanatory variable, you've got a Simpson's Paradox.\n",
    "\n",
    "By \"properly pooled,\" the investigators at Berkeley meant \"broken down by department.\" Men more often applied to science departments, while women inclined towards humanities. Science departments require special technical skills but accept a large percentage of qualified applicants. In contrast, humanities departments only require a standard undergrad curriculum but have fewer slots.  Let's examine this data in Python Pandas.  The first task is to see how the original claim of \"sex discrimination against women college applicants at Stanford\".  "
   ]
  },
  {
   "cell_type": "code",
   "execution_count": 200,
   "metadata": {
    "collapsed": false,
    "slideshow": {
     "slide_type": "subslide"
    }
   },
   "outputs": [
    {
     "data": {
      "text/html": [
       "<div>\n",
       "<table border=\"1\" class=\"dataframe\">\n",
       "  <thead>\n",
       "    <tr style=\"text-align: right;\">\n",
       "      <th></th>\n",
       "      <th>Admit</th>\n",
       "      <th>Gender</th>\n",
       "      <th>Dept</th>\n",
       "      <th>Freq</th>\n",
       "    </tr>\n",
       "  </thead>\n",
       "  <tbody>\n",
       "    <tr>\n",
       "      <th>0</th>\n",
       "      <td>Admitted</td>\n",
       "      <td>Male</td>\n",
       "      <td>A</td>\n",
       "      <td>512</td>\n",
       "    </tr>\n",
       "    <tr>\n",
       "      <th>1</th>\n",
       "      <td>Rejected</td>\n",
       "      <td>Male</td>\n",
       "      <td>A</td>\n",
       "      <td>313</td>\n",
       "    </tr>\n",
       "    <tr>\n",
       "      <th>2</th>\n",
       "      <td>Admitted</td>\n",
       "      <td>Female</td>\n",
       "      <td>A</td>\n",
       "      <td>89</td>\n",
       "    </tr>\n",
       "    <tr>\n",
       "      <th>3</th>\n",
       "      <td>Rejected</td>\n",
       "      <td>Female</td>\n",
       "      <td>A</td>\n",
       "      <td>19</td>\n",
       "    </tr>\n",
       "    <tr>\n",
       "      <th>4</th>\n",
       "      <td>Admitted</td>\n",
       "      <td>Male</td>\n",
       "      <td>B</td>\n",
       "      <td>353</td>\n",
       "    </tr>\n",
       "    <tr>\n",
       "      <th>5</th>\n",
       "      <td>Rejected</td>\n",
       "      <td>Male</td>\n",
       "      <td>B</td>\n",
       "      <td>207</td>\n",
       "    </tr>\n",
       "    <tr>\n",
       "      <th>6</th>\n",
       "      <td>Admitted</td>\n",
       "      <td>Female</td>\n",
       "      <td>B</td>\n",
       "      <td>17</td>\n",
       "    </tr>\n",
       "    <tr>\n",
       "      <th>7</th>\n",
       "      <td>Rejected</td>\n",
       "      <td>Female</td>\n",
       "      <td>B</td>\n",
       "      <td>8</td>\n",
       "    </tr>\n",
       "    <tr>\n",
       "      <th>8</th>\n",
       "      <td>Admitted</td>\n",
       "      <td>Male</td>\n",
       "      <td>C</td>\n",
       "      <td>120</td>\n",
       "    </tr>\n",
       "    <tr>\n",
       "      <th>9</th>\n",
       "      <td>Rejected</td>\n",
       "      <td>Male</td>\n",
       "      <td>C</td>\n",
       "      <td>205</td>\n",
       "    </tr>\n",
       "    <tr>\n",
       "      <th>10</th>\n",
       "      <td>Admitted</td>\n",
       "      <td>Female</td>\n",
       "      <td>C</td>\n",
       "      <td>202</td>\n",
       "    </tr>\n",
       "    <tr>\n",
       "      <th>11</th>\n",
       "      <td>Rejected</td>\n",
       "      <td>Female</td>\n",
       "      <td>C</td>\n",
       "      <td>391</td>\n",
       "    </tr>\n",
       "    <tr>\n",
       "      <th>12</th>\n",
       "      <td>Admitted</td>\n",
       "      <td>Male</td>\n",
       "      <td>D</td>\n",
       "      <td>138</td>\n",
       "    </tr>\n",
       "    <tr>\n",
       "      <th>13</th>\n",
       "      <td>Rejected</td>\n",
       "      <td>Male</td>\n",
       "      <td>D</td>\n",
       "      <td>279</td>\n",
       "    </tr>\n",
       "    <tr>\n",
       "      <th>14</th>\n",
       "      <td>Admitted</td>\n",
       "      <td>Female</td>\n",
       "      <td>D</td>\n",
       "      <td>131</td>\n",
       "    </tr>\n",
       "    <tr>\n",
       "      <th>15</th>\n",
       "      <td>Rejected</td>\n",
       "      <td>Female</td>\n",
       "      <td>D</td>\n",
       "      <td>244</td>\n",
       "    </tr>\n",
       "    <tr>\n",
       "      <th>16</th>\n",
       "      <td>Admitted</td>\n",
       "      <td>Male</td>\n",
       "      <td>E</td>\n",
       "      <td>53</td>\n",
       "    </tr>\n",
       "    <tr>\n",
       "      <th>17</th>\n",
       "      <td>Rejected</td>\n",
       "      <td>Male</td>\n",
       "      <td>E</td>\n",
       "      <td>138</td>\n",
       "    </tr>\n",
       "    <tr>\n",
       "      <th>18</th>\n",
       "      <td>Admitted</td>\n",
       "      <td>Female</td>\n",
       "      <td>E</td>\n",
       "      <td>94</td>\n",
       "    </tr>\n",
       "    <tr>\n",
       "      <th>19</th>\n",
       "      <td>Rejected</td>\n",
       "      <td>Female</td>\n",
       "      <td>E</td>\n",
       "      <td>299</td>\n",
       "    </tr>\n",
       "    <tr>\n",
       "      <th>20</th>\n",
       "      <td>Admitted</td>\n",
       "      <td>Male</td>\n",
       "      <td>F</td>\n",
       "      <td>22</td>\n",
       "    </tr>\n",
       "    <tr>\n",
       "      <th>21</th>\n",
       "      <td>Rejected</td>\n",
       "      <td>Male</td>\n",
       "      <td>F</td>\n",
       "      <td>351</td>\n",
       "    </tr>\n",
       "    <tr>\n",
       "      <th>22</th>\n",
       "      <td>Admitted</td>\n",
       "      <td>Female</td>\n",
       "      <td>F</td>\n",
       "      <td>24</td>\n",
       "    </tr>\n",
       "    <tr>\n",
       "      <th>23</th>\n",
       "      <td>Rejected</td>\n",
       "      <td>Female</td>\n",
       "      <td>F</td>\n",
       "      <td>317</td>\n",
       "    </tr>\n",
       "  </tbody>\n",
       "</table>\n",
       "</div>"
      ],
      "text/plain": [
       "       Admit  Gender Dept  Freq\n",
       "0   Admitted    Male    A   512\n",
       "1   Rejected    Male    A   313\n",
       "2   Admitted  Female    A    89\n",
       "3   Rejected  Female    A    19\n",
       "4   Admitted    Male    B   353\n",
       "5   Rejected    Male    B   207\n",
       "6   Admitted  Female    B    17\n",
       "7   Rejected  Female    B     8\n",
       "8   Admitted    Male    C   120\n",
       "9   Rejected    Male    C   205\n",
       "10  Admitted  Female    C   202\n",
       "11  Rejected  Female    C   391\n",
       "12  Admitted    Male    D   138\n",
       "13  Rejected    Male    D   279\n",
       "14  Admitted  Female    D   131\n",
       "15  Rejected  Female    D   244\n",
       "16  Admitted    Male    E    53\n",
       "17  Rejected    Male    E   138\n",
       "18  Admitted  Female    E    94\n",
       "19  Rejected  Female    E   299\n",
       "20  Admitted    Male    F    22\n",
       "21  Rejected    Male    F   351\n",
       "22  Admitted  Female    F    24\n",
       "23  Rejected  Female    F   317"
      ]
     },
     "execution_count": 200,
     "metadata": {},
     "output_type": "execute_result"
    }
   ],
   "source": [
    "#############################################\n",
    "# Import our modules\n",
    "#############################################\n",
    "\n",
    "import pandas as pd\n",
    "import requests\n",
    "import numpy as np\n",
    "from pandas import Series,DataFrame\n",
    "\n",
    "############################################\n",
    "# Getting our data\n",
    "############################################\n",
    "\n",
    "# Pandas can read csv directly from a url or from disk\n",
    "df = pd.read_csv('http://www.calvin.edu/~stob/data/Berkeley.csv')\n",
    "\n",
    "#converting columns to categorical features\n",
    "df['Gender']=df['Gender'].astype('category')\n",
    "df['Admit']=df['Admit'].astype('category')\n",
    "df['Dept']=df['Dept'].astype('category')\n",
    "\n",
    "# Let's see the data as a pandas dataframe\n",
    "df"
   ]
  },
  {
   "cell_type": "markdown",
   "metadata": {
    "slideshow": {
     "slide_type": "slide"
    }
   },
   "source": [
    "Note above that we converted our generic dataframe objects into categorical objects.  This is an important step where the data has categorical data, which is supported by `pandas`.  Next, we use the [Group By: split-apply-combine](http://pandas.pydata.org/pandas-docs/stable/groupby.html) tools from the [`pandas`](http://pandas.pydata.org/) library to group our data by 'gender' to explore the admitted/rejected rates. `groupby` operations will be very familiar to SQL based analysis where you can write the query:\n",
    "\n",
    "```mysql\n",
    "\n",
    "SELECT Column1, Column2, mean(Column3), sum(Column4)\n",
    "FROM SomeTable\n",
    "GROUP BY Column1, Column2\n",
    "\n",
    "```"
   ]
  },
  {
   "cell_type": "code",
   "execution_count": 201,
   "metadata": {
    "collapsed": false,
    "slideshow": {
     "slide_type": "slide"
    }
   },
   "outputs": [
    {
     "data": {
      "text/html": [
       "<div>\n",
       "<table border=\"1\" class=\"dataframe\">\n",
       "  <thead>\n",
       "    <tr style=\"text-align: right;\">\n",
       "      <th></th>\n",
       "      <th></th>\n",
       "      <th>Freq</th>\n",
       "    </tr>\n",
       "    <tr>\n",
       "      <th>Gender</th>\n",
       "      <th>Admit</th>\n",
       "      <th></th>\n",
       "    </tr>\n",
       "  </thead>\n",
       "  <tbody>\n",
       "    <tr>\n",
       "      <th rowspan=\"2\" valign=\"top\">Female</th>\n",
       "      <th>Admitted</th>\n",
       "      <td>557</td>\n",
       "    </tr>\n",
       "    <tr>\n",
       "      <th>Rejected</th>\n",
       "      <td>1278</td>\n",
       "    </tr>\n",
       "    <tr>\n",
       "      <th rowspan=\"2\" valign=\"top\">Male</th>\n",
       "      <th>Admitted</th>\n",
       "      <td>1198</td>\n",
       "    </tr>\n",
       "    <tr>\n",
       "      <th>Rejected</th>\n",
       "      <td>1493</td>\n",
       "    </tr>\n",
       "  </tbody>\n",
       "</table>\n",
       "</div>"
      ],
      "text/plain": [
       "                 Freq\n",
       "Gender Admit         \n",
       "Female Admitted   557\n",
       "       Rejected  1278\n",
       "Male   Admitted  1198\n",
       "       Rejected  1493"
      ]
     },
     "execution_count": 201,
     "metadata": {},
     "output_type": "execute_result"
    }
   ],
   "source": [
    "# groupby gender\n",
    "obj = df.groupby(['Gender','Admit'])\n",
    "\n",
    "# uncomment to see all the methods available to grouped data\n",
    "#dir(obj)\n",
    "\n",
    "# show our new grouped dataframe\n",
    "df2 = obj.sum()\n",
    "df2"
   ]
  },
  {
   "cell_type": "markdown",
   "metadata": {
    "slideshow": {
     "slide_type": "subslide"
    }
   },
   "source": [
    "`df2` is a [multiindex dataframe](http://pandas.pydata.org/pandas-docs/stable/advanced.html) (index on gender and index on Admit).  \n",
    "\n",
    "## Visualization\n",
    "\n",
    "`pandas` provides an [unstack method to work with multiindexed dataframes](http://pandas.pydata.org/pandas-docs/stable/generated/pandas.DataFrame.unstack.html).  Combining the unstack method with the [embedded visualization tools of `pandas`](http://pandas.pydata.org/pandas-docs/stable/visualization.html) creates a powerful combination for [quick visualization](http://stackoverflow.com/questions/25386870/pandas-plotting-with-multi-index) of [categorical data(http://pandas.pydata.org/pandas-docs/stable/categorical.html).  We use all the methods above to plot our data, and see if there is \"sex discrimination in the admissions process\".  "
   ]
  },
  {
   "cell_type": "code",
   "execution_count": 199,
   "metadata": {
    "collapsed": false,
    "slideshow": {
     "slide_type": "slide"
    }
   },
   "outputs": [
    {
     "data": {
      "image/png": "[encoded data removed]",
      "text/plain": [
       "<matplotlib.figure.Figure at 0x11bc1d8d0>"
      ]
     },
     "metadata": {},
     "output_type": "display_data"
    }
   ],
   "source": [
    "import matplotlib.pyplot as plt\n",
    "import matplotlib as mpl\n",
    "\n",
    "# make plots inline to the jupyter notebook; comment out if you want interactive plots\n",
    "%matplotlib inline\n",
    "\n",
    "# Documentation http://pandas.pydata.org/pandas-docs/stable/generated/pandas.DataFrame.plot.html\n",
    "# To learn more about unstack, read here http://pandas.pydata.org/pandas-docs/stable/generated/pandas.DataFrame.unstack.html\n",
    "\n",
    "df2.unstack(level=0).plot(\n",
    "    kind='bar',\n",
    "    layout=(1,2),\n",
    "    colormap='Dark2',\n",
    "    sharey='True',\n",
    "    figsize=(15,8), \n",
    ")\n",
    "csfont = {'fontname':'Comic Sans MS'}\n",
    "\n",
    "plt.suptitle('Gender Discrimation?\\nComparing Admission Rates for Males and Females at Stanford University\\n',fontsize=18,**csfont)\n",
    "plt.subplots_adjust(bottom=0.1, right=0.8, top=0.85)\n",
    "plt.legend(loc=0)\n",
    "plt.text(-0.17, 1300, '1755 total Admiited', style='italic',bbox={'facecolor':'#E0B8B8', 'alpha':0.5, 'pad':6})\n",
    "plt.text(0.9, 1545, '2771 total Rejected', style='italic',bbox={'facecolor':'#E0B8B8', 'alpha':0.5, 'pad':6})\n",
    "plt.style.use('fivethirtyeight')\n",
    "plt.show()"
   ]
  },
  {
   "cell_type": "markdown",
   "metadata": {
    "slideshow": {
     "slide_type": "slide"
    }
   },
   "source": [
    "Based on these figures, we see where the argument for \"discrimination\" comes from (pay attention to the left block in each subplot). Proportionally, male applicants are accepted at a higher rate than their female counterparts. Is the case closed? Maybe not.\n",
    "\n",
    "What if we added another dimension to the data?  Let's add the department variable to this problem, and plot the relationship of gender and admission rates.  It's not a far stretch to assume that departments (i.e. major areas of study) have different acceptance rates.  `pandas` makes this an easy task with the groupby method.  "
   ]
  },
  {
   "cell_type": "code",
   "execution_count": 142,
   "metadata": {
    "collapsed": false,
    "slideshow": {
     "slide_type": "fragment"
    }
   },
   "outputs": [],
   "source": [
    "# adding the department dimension to our multiindex\n",
    "obj3 = df.groupby(['Gender','Admit','Dept'])\n",
    "\n",
    "# making a dataframe\n",
    "df3 = obj2.sum()"
   ]
  },
  {
   "cell_type": "markdown",
   "metadata": {
    "slideshow": {
     "slide_type": "skip"
    }
   },
   "source": [
    "Now let's visualize the relationship between gender, admission rates, and departments.  "
   ]
  },
  {
   "cell_type": "code",
   "execution_count": 195,
   "metadata": {
    "collapsed": false,
    "scrolled": false,
    "slideshow": {
     "slide_type": "slide"
    }
   },
   "outputs": [
    {
     "data": {
      "image/png": "[encoded data removed]",
      "text/plain": [
       "<matplotlib.figure.Figure at 0x11efd9b50>"
      ]
     },
     "metadata": {},
     "output_type": "display_data"
    }
   ],
   "source": [
    "df3.unstack(level=-3).plot(\n",
    "    kind='bar',\n",
    "    colormap='Paired',\n",
    "    sharey=True,\n",
    "    figsize=(15,8),\n",
    "    table=True,\n",
    "    xticks=([30])\n",
    ")\n",
    "\n",
    "plt.xticks=([])\n",
    "# plt.subplots_adjust(bottom=0.1, right=0.8, top=1.5)\n",
    "plt.tick_params(\n",
    "    axis='x',          # changes apply to the x-axis\n",
    "    which='both',      # both major and minor ticks are affected\n",
    "    bottom='off',      # ticks along the bottom edge are off\n",
    "    top='off',         # ticks along the top edge are off\n",
    "    labelbottom='off') # labels along the bottom edge are off\n",
    "\n",
    "plt.suptitle('Gender Impact on Desired Field of Study?\\nExploring Gender Admission Rates by Academic Department\\n',fontsize=18,**csfont)\n",
    "\n",
    "plt.style.use('fivethirtyeight')\n",
    "plt.xlabel(\"\")\n",
    "plt.show()"
   ]
  },
  {
   "cell_type": "markdown",
   "metadata": {
    "slideshow": {
     "slide_type": "notes"
    }
   },
   "source": [
    "The graphic shows clearly that some departments accept nearly twice as many female applicants compared to male applicants.  Moreover, a few departments (e.g. Department E) with high female acceptance rates have high female rejection rates, suggestion a lack of \"open slots\" as a reason for the rejections.  Bringing this full circle, this data suggests female applicants are applying for admission into a focused grouping of Departments.  \n",
    "\n",
    "Therefore, rejection rates are influenced by their decision to apply into certain departments and the underlying limitation of available slots in those departments. Further analysis could focus on the relationship between gender and admission and total applications for admission by gender in each department.  Below, we wrap up with some basic arithmetic exploring the data.  This is extra, since we've already called into question the claim of \"sex discrimination\" and shifted the analysis to question the impact gender has on the intended field of study in college.     "
   ]
  },
  {
   "cell_type": "code",
   "execution_count": 192,
   "metadata": {
    "collapsed": false,
    "slideshow": {
     "slide_type": "fragment"
    }
   },
   "outputs": [
    {
     "name": "stdout",
     "output_type": "stream",
     "text": [
      "There were 1835 female applicants, 2691 male applicants for a total of 4526 applicants.\n",
      "Females account for 40.54 percent of the total applicants and males account for \n",
      "59.46 of the total applicants.\n",
      "\n",
      "Of the admitted students, 557 females were admitted, accounting for 31.74 percent of\n",
      "the total admittees.  Conversely, there were 1198 admitted males, or \n",
      "68.26 percent, of the total admittees.\n"
     ]
    }
   ],
   "source": [
    "# Establishing some basic numbers and figures for the data\n",
    "obj2 = df.groupby(['Gender','Admit','Dept'])\n",
    "\n",
    "df3 = obj2.sum()\n",
    "totalApps = df.Freq.sum() # total applicants \n",
    "totalFems = float(df3['Freq']['Female'].sum())  # total female applicants\n",
    "totalMals = float(df3['Freq']['Male'].sum())  # total male applicants\n",
    "admittedFems = float(df3['Freq']['Female']['Admitted'].sum())  # total admitted females\n",
    "admittedMals = float(df3['Freq']['Male']['Admitted'].sum())  # total admitted males\n",
    "totalAdmitted=admittedFems+admittedMals  # total admitted\n",
    "\n",
    "# Printing out some summary data/stats\n",
    "print '''There were {0} female applicants, {1} male applicants for a total of {2} applicants.\n",
    "Females account for {3} percent of the total applicants and males account for \n",
    "{4} of the total applicants.\n",
    "\n",
    "Of the admitted students, {5} females were admitted, accounting for {6} percent of\n",
    "the total admittees.  Conversely, there were {7} admitted males, or \n",
    "{8} percent, of the total admittees.'''.format(\n",
    "    int(totalFems),\n",
    "    int(totalMals),\n",
    "    totalApps,\n",
    "    round((totalFems/totalApps)*100,2),\n",
    "    round((totalMals/totalApps)*100,2),\n",
    "    int(admittedFems),\n",
    "    round((admittedFems/totalAdmitted)*100,2),\n",
    "    int(admittedMals),\n",
    "    round((admittedMals/totalAdmitted)*100,2)\n",
    "    )\n",
    "\n",
    "# add a little check to make sure our numbers are correct.\n",
    "if bool((totalFems/totalApps)*100 + (totalMals/totalApps)*100 == 100):\n",
    "    pass\n",
    "else:\n",
    "    raise('Arithmetic Error')\n",
    "    \n",
    "if bool(round((admittedFems/totalAdmitted)*100,2) + round((admittedMals/totalAdmitted)*100,2)==100):\n",
    "    pass\n",
    "else:\n",
    "    raise('Error in admitted calculation')\n",
    "    "
   ]
  }
 ],
 "metadata": {
  "celltoolbar": "Slideshow",
  "kernelspec": {
   "display_name": "Python 2",
   "language": "python",
   "name": "python2"
  },
  "language_info": {
   "codemirror_mode": {
    "name": "ipython",
    "version": 2
   },
   "file_extension": ".py",
   "mimetype": "text/x-python",
   "name": "python",
   "nbconvert_exporter": "python",
   "pygments_lexer": "ipython2",
   "version": "2.7.12"
  }
 },
 "nbformat": 4,
 "nbformat_minor": 0
}
